{
 "cells": [
  {
   "cell_type": "code",
   "execution_count": 7,
   "metadata": {},
   "outputs": [
    {
     "name": "stdout",
     "output_type": "stream",
     "text": [
      "The model has coefficients of [[-0.581 -0.61   0.028 -0.113 -0.02   0.788 -0.217 -0.568  0.181 -0.801]] \n",
      "The offset is  [0.191]\n",
      "The True Negative metric is:  476 and the True Positive number is : 521\n",
      "Classification error of this test is : 0.08 ( 0.07685185185185184 )\n"
     ]
    },
    {
     "data": {
      "image/png": "[encoded data removed]",
      "text/plain": [
       "<Figure size 432x288 with 2 Axes>"
      ]
     },
     "metadata": {},
     "output_type": "display_data"
    },
    {
     "name": "stdout",
     "output_type": "stream",
     "text": [
      "The fraction of Y values that conform with the SLA is :  0.5319444444444444\n",
      "The classification error for the naive classifier on the test set is : 0.51 ( 0.5083333333333333 )\n"
     ]
    }
   ],
   "source": [
    "import pandas as pd\n",
    "import numpy as np \n",
    "import matplotlib.pyplot as plt \n",
    "from sklearn.linear_model import LogisticRegression\n",
    "from sklearn import datasets\n",
    "from sklearn.cross_validation import train_test_split\n",
    "from sklearn.preprocessing import StandardScaler\n",
    "from sklearn.metrics import confusion_matrix\n",
    "\n",
    "#import the data and use pandas to read into a dataframe\n",
    "raw = pd.read_csv('data/Y.csv')\n",
    "train_data= pd.read_csv('data/X.csv',usecols =[0,1,2,3,4,5,6,7,8,9])\n",
    "Time = pd.read_csv('data/X.csv',usecols =['TimeStamp']).values\n",
    "\n",
    "#distinguish the data according to metric of SLA (either 1 or 0)\n",
    "def findSLA(x,y):\n",
    "\tif x > y:\n",
    "\t\treturn 1\n",
    "\telse:\n",
    "\t\treturn 0\n",
    "\tpass\n",
    "\n",
    "#define the train_target\n",
    "raw['SLA']= raw.DispFrames.apply(lambda x: findSLA(x,18))\n",
    "train_target = raw['SLA']\n",
    "\n",
    "#data split with train70% test30%\n",
    "X_train,X_test, Y_train, Y_test = train_test_split(train_data,train_target,test_size=0.3,train_size = 0.7, random_state=1) \n",
    "\n",
    "#Data pretreatment\n",
    "sc = StandardScaler()\n",
    "sc.fit(X_train)\n",
    "X_train_std = sc.transform(X_train)\n",
    "X_test_std = sc.transform(X_test)\n",
    "\n",
    "\n",
    "#simulation\n",
    "#increase the accuracy\n",
    "classifier = LogisticRegression(multi_class='multinomial',solver='lbfgs')\n",
    "classifier.fit(X_train_std,Y_train)\n",
    "\n",
    "\n",
    "np.set_printoptions(precision=3)\n",
    "a = classifier.intercept_\n",
    "b = classifier.coef_\n",
    "Y_pred =classifier.predict(X_test_std)\n",
    "print (\"The model has coefficients of\",b,\"\\nThe offset is \", a)\n",
    "\n",
    "\n",
    "#using Confusion matrix to calculate the classification error\n",
    "cm= confusion_matrix(Y_test,Y_pred)\n",
    "TN, FP, FN, TP =cm.ravel()\n",
    "print (\"The True Negative metric is: \",TN,\"and the True Positive number is :\", TP)\n",
    "c_ERR = 1 - (TP+TN)/len(Y_test)\n",
    "print(\"Classification error of this test is : %.2f\" %c_ERR,\"(\",c_ERR,\")\")\n",
    "class_name = ['Negative','Positive']\n",
    "index = [['TN','FP'],['FN','TP']]\n",
    "\n",
    "#Use confusion matrix to show FP FN TP TN\n",
    "plt.figure()\n",
    "plt.imshow(cm,cmap=plt.cm.Blues,alpha=0.3)\n",
    "plt.colorbar()\n",
    "plt.title(\"Confusion matrix plot (without normalization)\")\n",
    "tick_marks = np.arange(len(class_name))\n",
    "for i in range(cm.shape[0]):   \n",
    "\tfor j in range(cm.shape[1]):      \n",
    "\t\tplt.text(x=j,y=i,s=str(index[i][j])+\"=\"+str(cm[i][j]),va='center',ha='center')\n",
    "plt.xticks(tick_marks,class_name,rotation = 45)\n",
    "plt.yticks(tick_marks,class_name)\n",
    "plt.xlabel('Predicted label')\n",
    "plt.ylabel('True label')\n",
    "plt.tight_layout()\n",
    "plt.show()\n",
    "\n",
    "\n",
    "#naive method \n",
    "Rand= np.random.rand(1080)\n",
    "traction = raw[raw['DispFrames']>18].count()['SLA']\n",
    "SLA_p = traction/len(raw)\n",
    "print(\"The fraction of Y values that conform with the SLA is : \", SLA_p)\n",
    "\n",
    "\n",
    "Y_rand = pd.DataFrame(Rand, columns =['SLA']).SLA.apply(lambda x: findSLA(x,SLA_p))\n",
    "naive_cm = confusion_matrix(Y_test,Y_rand)\n",
    "TN1, FP1, FN1, TP1 =naive_cm.ravel()\n",
    "ERR = 1 - (TP1+TN1)/len(Y_test)\n",
    "print(\"The classification error for the naive classifier on the test set is : %.2f\"%ERR,\"(\",ERR,\")\")\n",
    "\n",
    "\n",
    "\n"
   ]
  },
  {
   "cell_type": "code",
   "execution_count": 8,
   "metadata": {},
   "outputs": [
    {
     "name": "stdout",
     "output_type": "stream",
     "text": [
      "The extended new classifier has classification error of : 0.08 ( 0.08148148148148149 )\n"
     ]
    }
   ],
   "source": [
    "import pandas as pd\n",
    "import numpy as np \n",
    "import matplotlib.pyplot as plt \n",
    "from pandas import Series,DataFrame\n",
    "from sklearn.linear_model import LogisticRegression,LinearRegression\n",
    "from sklearn import datasets\n",
    "from sklearn.cross_validation import train_test_split\n",
    "from sklearn.preprocessing import StandardScaler\n",
    "from sklearn.metrics import confusion_matrix\n",
    "\n",
    "\n",
    "#import the data and use pandas to read into a dataframe\n",
    "raw = pd.read_csv('data/Y.csv')\n",
    "train_data= pd.read_csv('data/X.csv',usecols =[0,1,2,3,4,5,6,7,8,9])\n",
    "Time = pd.read_csv('data/X.csv',usecols =['TimeStamp']).values\n",
    "train_target = raw['DispFrames']\n",
    "\n",
    "#data split with train70% test30%\n",
    "X_train,X_test, Y_train, Y_test = train_test_split(train_data,train_target,test_size=0.3,train_size = 0.7, random_state=1) \n",
    "\n",
    "#using Linear regression for evaluation\n",
    "model= LinearRegression()\n",
    "model.fit(X_train,Y_train)\n",
    "np.set_printoptions(precision=2)\n",
    "Y_pred = model.predict(X_test)\n",
    "\n",
    "\n",
    "def findSLA(x,y):\n",
    "\tif x > y:\n",
    "\t\treturn 1\n",
    "\telse:\n",
    "\t\treturn 0\n",
    "\tpass\n",
    "\n",
    "Y_pred = pd.DataFrame(Y_pred,columns=['SLA']).SLA.apply(lambda x: findSLA(x,18))\n",
    "Y_test = pd.DataFrame(Y_test).DispFrames.apply(lambda x:findSLA(x,18))\n",
    "extend_cm = confusion_matrix(Y_test,Y_pred)\n",
    "TN, FP, FN, TP = extend_cm.ravel()\n",
    "extend_ERR = 1 - (TP+TN)/len(Y_test)\n",
    "\n",
    "print(\"The extended new classifier has classification error of : %.2f\"%extend_ERR,\"(\",extend_ERR,\")\")"
   ]
  },
  {
   "cell_type": "code",
   "execution_count": null,
   "metadata": {},
   "outputs": [],
   "source": []
  }
 ],
 "metadata": {
  "kernelspec": {
   "display_name": "Python [conda env:anaconda3]",
   "language": "python",
   "name": "conda-env-anaconda3-py"
  },
  "language_info": {
   "codemirror_mode": {
    "name": "ipython",
    "version": 3
   },
   "file_extension": ".py",
   "mimetype": "text/x-python",
   "name": "python",
   "nbconvert_exporter": "python",
   "pygments_lexer": "ipython3",
   "version": "3.6.5"
  }
 },
 "nbformat": 4,
 "nbformat_minor": 2
}
